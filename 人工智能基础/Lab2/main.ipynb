{
 "cells": [
  {
   "cell_type": "code",
   "execution_count": 3,
   "source": [
    "import numpy as np           # 提供维度数组与矩阵运算\r\n",
    "import copy                  # 从copy模块导入深度拷贝方法\r\n",
    "from board import Chessboard\r\n",
    "import itertools\r\n",
    "\r\n",
    "# 基于棋盘类，设计搜索策略\r\n",
    "class Game:\r\n",
    "    def __init__(self, show = True):\r\n",
    "        \"\"\"\r\n",
    "        初始化游戏状态.\r\n",
    "        \"\"\"\r\n",
    "        \r\n",
    "        self.chessBoard = Chessboard(show)\r\n",
    "        self.solves = []\r\n",
    "        self.gameInit()\r\n",
    "        \r\n",
    "    # 重置游戏\r\n",
    "    def gameInit(self, show = True):\r\n",
    "        \"\"\"\r\n",
    "        重置棋盘.\r\n",
    "        \"\"\"\r\n",
    "        \r\n",
    "        self.Queen_setRow = [-1] * 8\r\n",
    "        self.chessBoard.boardInit(False)\r\n",
    "        \r\n",
    "    ##############################################################################\r\n",
    "    ####                请在以下区域中作答(可自由添加自定义函数)                 #### \r\n",
    "    ####              输出：self.solves = 八皇后所有序列解的list                ####\r\n",
    "    ####             如:[[0,6,4,7,1,3,5,2],]代表八皇后的一个解为                ####\r\n",
    "    ####           (0,0),(1,6),(2,4),(3,7),(4,1),(5,3),(6,5),(7,2)            ####\r\n",
    "    ##############################################################################\r\n",
    "    #                                                                            #\r\n",
    "    \r\n",
    "    def run(self, row=0):\r\n",
    "        base = [num for num in range(8)]\r\n",
    "        base_list = list(itertools.permutations(base, 8))\r\n",
    "        for solution in base_list:\r\n",
    "            self.Queen_setRow = list(solution)\r\n",
    "            for i,item in enumerate(self.Queen_setRow):\r\n",
    "                if (self.chessBoard.setLegal(i, item)):\r\n",
    "                    self.chessBoard.setQueen(i, item, False)\r\n",
    "                    if (i == 7 and self.chessBoard.isWin()):\r\n",
    "                        self.solves.append(self.Queen_setRow)\r\n",
    "                else:\r\n",
    "                    continue\r\n",
    "            self.Queen_setRow = [-1] * 8\r\n",
    "            self.chessBoard.boardInit(False)\r\n",
    "        # self.solves.append([0,6,4,7,1,3,5,2])\r\n",
    "\r\n",
    "    #                                                                            #\r\n",
    "    ##############################################################################\r\n",
    "    #################             完成后请记得提交作业             ################# \r\n",
    "    ##############################################################################\r\n",
    "    \r\n",
    "    def showResults(self, result):\r\n",
    "        \"\"\"\r\n",
    "        结果展示.\r\n",
    "        \"\"\"\r\n",
    "        \r\n",
    "        self.chessBoard.boardInit(False)\r\n",
    "        for i,item in enumerate(result):\r\n",
    "            if item >= 0:\r\n",
    "                self.chessBoard.setQueen(i,item,False)\r\n",
    "        \r\n",
    "        self.chessBoard.printChessboard(False)\r\n",
    "    \r\n",
    "    def get_results(self):\r\n",
    "        \"\"\"\r\n",
    "        输出结果(请勿修改此函数).\r\n",
    "        return: 八皇后的序列解的list.\r\n",
    "        \"\"\"\r\n",
    "        \r\n",
    "        self.run()\r\n",
    "        return self.solves\r\n",
    "   "
   ],
   "outputs": [],
   "metadata": {}
  },
  {
   "cell_type": "code",
   "execution_count": 4,
   "source": [
    "game = Game()\r\n",
    "solutions = game.get_results()\r\n",
    "print('There are {} results.'.format(len(solutions)))\r\n",
    "game.showResults(solutions[0])"
   ],
   "outputs": [
    {
     "output_type": "stream",
     "name": "stdout",
     "text": [
      "  0 1 2 3 4 5 6 7 \n",
      "0 - - - - - - - - \n",
      "1 - - - - - - - - \n",
      "2 - - - - - - - - \n",
      "3 - - - - - - - - \n",
      "4 - - - - - - - - \n",
      "5 - - - - - - - - \n",
      "6 - - - - - - - - \n",
      "7 - - - - - - - - \n",
      "There are 92 results.\n",
      "  0 1 2 3 4 5 6 7 \n",
      "0 o - - - - - - - \n",
      "1 - - - - o - - - \n",
      "2 - - - - - - - o \n",
      "3 - - - - - o - - \n",
      "4 - - o - - - - - \n",
      "5 - - - - - - o - \n",
      "6 - o - - - - - - \n",
      "7 - - - o - - - - \n"
     ]
    }
   ],
   "metadata": {}
  },
  {
   "cell_type": "code",
   "execution_count": 4,
   "source": [
    "from board import Chessboard\r\n",
    "chessboard = Chessboard(False)\r\n",
    "chessboard.boardInit(False)\r\n",
    "print(chessboard.chessboardMatrix)"
   ],
   "outputs": [
    {
     "output_type": "stream",
     "name": "stdout",
     "text": [
      "[[0 0 0 0 0 0 0 0]\n",
      " [0 0 0 0 0 0 0 0]\n",
      " [0 0 0 0 0 0 0 0]\n",
      " [0 0 0 0 0 0 0 0]\n",
      " [0 0 0 0 0 0 0 0]\n",
      " [0 0 0 0 0 0 0 0]\n",
      " [0 0 0 0 0 0 0 0]\n",
      " [0 0 0 0 0 0 0 0]]\n"
     ]
    }
   ],
   "metadata": {}
  }
 ],
 "metadata": {
  "orig_nbformat": 4,
  "language_info": {
   "name": "python",
   "version": "3.9.1",
   "mimetype": "text/x-python",
   "codemirror_mode": {
    "name": "ipython",
    "version": 3
   },
   "pygments_lexer": "ipython3",
   "nbconvert_exporter": "python",
   "file_extension": ".py"
  },
  "kernelspec": {
   "name": "python3",
   "display_name": "Python 3.9.1 64-bit"
  },
  "interpreter": {
   "hash": "b119c43e9602ecba0357fe802f096f871bb03192e003b1531152808a7cecc96a"
  }
 },
 "nbformat": 4,
 "nbformat_minor": 2
}